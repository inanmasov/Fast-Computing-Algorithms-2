{
 "cells": [
  {
   "cell_type": "code",
   "execution_count": 23,
   "metadata": {},
   "outputs": [
    {
     "name": "stdout",
     "output_type": "stream",
     "text": [
      "f(x) =  x^18 + 2050065*x^17 + 85*x^16 + 2049807*x^15 + 340*x^14 + 952*x^13 + 2043891*x^12 + 17680*x^11 + 2016045*x^10 + 48620*x^9 + 1996597*x^8 + 45968*x^7 + 2019139*x^6 + 16184*x^5 + 2043619*x^4 + 1904*x^3 + 2049688*x^2 + 50*x + 2050077\n",
      "Factor f:  x^18 + 2050065*x^17 + 85*x^16 + 2049807*x^15 + 340*x^14 + 952*x^13 + 2043891*x^12 + 17680*x^11 + 2016045*x^10 + 48620*x^9 + 1996597*x^8 + 45968*x^7 + 2019139*x^6 + 16184*x^5 + 2043619*x^4 + 1904*x^3 + 2049688*x^2 + 50*x + 2050077\n",
      "Rabin check f:  True\n",
      "\n",
      "f2(x) =  x^18 + 2050014*x^17 + 1788*x^16 + 2024971*x^15 + 124879*x^14 + 1931169*x^13 + 780409*x^12 + 1344201*x^11 + 607298*x^10 + 27932*x^9 + 48493*x^8 + 796104*x^7 + 1639985*x^6 + 1850770*x^5 + 1645530*x^4 + 1009691*x^3 + 1696631*x^2 + 222532*x + 273649\n",
      "Factor f2:  (x^2 + 2050061*x + 82)^2 * (x^3 + 2050065*x^2 + 65*x + 2049980)^2 * (x^8 + 2050078*x^7 + 2049981*x^6 + 812*x^5 + 2046999*x^4 + 6608*x^3 + 2041791*x^2 + 5696*x + 2048416)\n",
      "Rabin check f2:  False\n",
      "\n",
      "Generated:  x^18 + 1569135*x^17 + 215444*x^16 + 1175838*x^15 + 2017399*x^14 + 1130345*x^13 + 1626827*x^12 + 1416337*x^11 + 1251380*x^10 + 642022*x^9 + 1900782*x^8 + 1980223*x^7 + 296336*x^6 + 1358547*x^5 + 674269*x^4 + 371192*x^3 + 47138*x^2 + 1512977*x + 89344\n",
      "Generated degree:  18\n",
      "Factor generated:  x^18 + 1569135*x^17 + 215444*x^16 + 1175838*x^15 + 2017399*x^14 + 1130345*x^13 + 1626827*x^12 + 1416337*x^11 + 1251380*x^10 + 642022*x^9 + 1900782*x^8 + 1980223*x^7 + 296336*x^6 + 1358547*x^5 + 674269*x^4 + 371192*x^3 + 47138*x^2 + 1512977*x + 89344\n",
      "Check by Rabin:  True\n"
     ]
    }
   ],
   "source": [
    "def Gen_polynomial(f, n):\n",
    "    R = QuotientRing(K, ideal(f))\n",
    "    x = R([0, 1])\n",
    "    while 1:\n",
    "        alpha = R.random_element()\n",
    "        r = 1\n",
    "\n",
    "        phi = x - alpha\n",
    "\n",
    "        g = R(alpha^q)\n",
    "\n",
    "        while g != alpha:\n",
    "            r += 1\n",
    "            phi = R(phi*(x - g))\n",
    "            g = R(g^q)\n",
    "\n",
    "        if r >= n:\n",
    "            return phi.lift() + f\n",
    "            \n",
    "\n",
    "def Rabin(f):\n",
    "    n = f.degree()\n",
    "    q = f.base_ring().order()\n",
    "    g = (K([0, 1])^q)%f\n",
    "\n",
    "    for i in range(1, n):\n",
    "        r = n // i\n",
    "        if n == r * i and is_prime(r):\n",
    "            if gcd(f, g - K([0, 1])) != 1:\n",
    "                return False\n",
    "        g = pow(g, q, f)\n",
    "\n",
    "    if g != K([0, 1]):\n",
    "        return False\n",
    "\n",
    "    return True\n",
    "\n",
    "\n",
    "q = 2050079\n",
    "K.<x> = PolynomialRing(Zmod(q))\n",
    "coeffs = [2050077, 50, 2049688, 1904, 2043619, 16184, 2019139, 45968, 1996597, 48620, 2016045, 17680, 2043891, 952, 340, 2049807, 85, 2050065, 1]\n",
    "coeffs2 = [273649, 222532, 1696631, 1009691, 1645530, 1850770, 1639985, 796104, 48493, 27932, 607298, 1344201, 780409, 1931169, 124879, 2024971, 1788, 2050014, 1]\n",
    "f = K(coeffs)\n",
    "f2 = K(coeffs2)\n",
    "\n",
    "print('f(x) = ', f1)\n",
    "print ('Factor f: ', f.factor())\n",
    "print ('Rabin check f: ', Rabin(f))\n",
    "print()\n",
    "print('f2(x) = ', f2)\n",
    "print ('Factor f2: ', f2.factor())\n",
    "print ('Rabin check f2: ', Rabin(f2))\n",
    "print()\n",
    "\n",
    "generated = Gen_polynomial(f, f.degree())\n",
    "print ('Generated: ', generated)\n",
    "print ('Generated degree: ', generated.degree())\n",
    "print ('Factor generated: ', generated.factor())\n",
    "print ('Check by Rabin: ', Rabin(generated))"
   ]
  },
  {
   "cell_type": "code",
   "execution_count": null,
   "metadata": {},
   "outputs": [],
   "source": []
  }
 ],
 "metadata": {
  "kernelspec": {
   "display_name": "SageMath 9.3",
   "language": "sage",
   "name": "sagemath"
  }
 },
 "nbformat": 4,
 "nbformat_minor": 4
}
